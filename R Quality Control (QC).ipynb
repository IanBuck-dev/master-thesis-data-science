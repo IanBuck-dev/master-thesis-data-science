{
 "cells": [
  {
   "cell_type": "markdown",
   "id": "a67dbe30",
   "metadata": {},
   "source": [
    "# Quality Control (QC)"
   ]
  },
  {
   "cell_type": "code",
   "execution_count": null,
   "id": "a02924be",
   "metadata": {},
   "outputs": [],
   "source": [
    "# Setup\n",
    "# install.packages(\"/Users/ian/Repos/uni/sensor-data-ml/CrowdQCplus_1.0.2.tar.gz\", repos = NULL, type =\"source\")\n",
    "install.packages(\"devtools\")\n",
    "devtools::install_github(\"dafenner/CrowdQCplus\")\n",
    "\n",
    "library(data.table)\n",
    "library(CrowdQCplus)"
   ]
  },
  {
   "cell_type": "code",
   "execution_count": null,
   "id": "d6717162",
   "metadata": {},
   "outputs": [],
   "source": [
    "# Load the csv file with all temperature readings from all stations in the format:\n",
    "# p_id, time, ta, lon, lat\n",
    "filename <- \"netatmo_df_qc.csv\"\n",
    "\n",
    "# Data & input check\n",
    "data <- read.csv(file=filename)\n",
    "ok <- cqcp_check_input(data)\n",
    "\n",
    "# Perform complete QC\n",
    "if(ok) {\n",
    "   data_qc <- cqcp_qcCWS(data) # QC   \n",
    "   n_data_qc <- cqcp_output_statistics(data_qc) # output statistics\n",
    "}"
   ]
  },
  {
   "cell_type": "code",
   "execution_count": null,
   "id": "c3bbccaf",
   "metadata": {},
   "outputs": [],
   "source": []
  }
 ],
 "metadata": {
  "kernelspec": {
   "display_name": "R",
   "language": "R",
   "name": "ir"
  },
  "language_info": {
   "codemirror_mode": "r",
   "file_extension": ".r",
   "mimetype": "text/x-r-source",
   "name": "R",
   "pygments_lexer": "r",
   "version": "3.6.1"
  }
 },
 "nbformat": 4,
 "nbformat_minor": 5
}
