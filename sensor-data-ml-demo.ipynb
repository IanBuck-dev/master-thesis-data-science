{
 "cells": [
  {
   "cell_type": "code",
   "execution_count": null,
   "metadata": {},
   "outputs": [],
   "source": [
    "import pandas as pd\n",
    "import numpy as np\n",
    "from math import isnan\n",
    "from collections import Counter\n",
    "\n",
    "# Import only first 1000 lines for testing\n",
    "df = pd.read_csv('./data/sensor_readings_timeseries_part2.csv', nrows=500, parse_dates=[\"Timestamp\"])\n",
    "df = df.drop(\n",
    "    [\"Metadata.Location.type\", \"Metadata.SensorCommunitySensorType\", \"Metadata.SensorType\", \"_id\"], axis=1)\n",
    "\n",
    "# no preprocessing needed\n",
    "sensor_community_df = df.loc[df[\"Metadata.Provider\"] == \"sensor.community\"].drop([\"Metadata.Provider\", \"Metadata.NetatmoSensorId\"], axis=1)\n",
    "\n",
    "# need to combine multiple entries for the same sensor id and time\n",
    "netatmo_df = df.loc[df[\"Metadata.Provider\"] == \"netatmo\"].drop(\n",
    "    [\"Metadata.Provider\"], axis=1)\n",
    "\n",
    "# get unique groups\n",
    "grouped = netatmo_df.groupby([\"Metadata.NetatmoSensorId\", \"Timestamp\"]).aggregate(list)\n",
    "\n",
    "combined_rows = []\n",
    "for label, group in grouped.iterrows():\n",
    "    humidity = next((x for x in group.values[0] if not isnan(x)), np.NaN)\n",
    "    pressure = next((x for x in group.values[2] if not isnan(x)), np.NaN)\n",
    "    temperature = next((x for x in group.values[3] if not isnan(x)), np.NaN)\n",
    "\n",
    "\n",
    "    # Humidity, Metadata.Location.coordinates, Pressure, Temperature, Timestamp\n",
    "    entry = [humidity, group.values[1][0], pressure, temperature, label[1]]\n",
    "    combined_rows.append(entry)\n",
    "\n",
    "netatmo_df = pd.DataFrame(combined_rows, columns=[\"Humidity\", \"Metadata.Location.coordinates\", \"Pressure\", \"Temperature\", \"Timestamp\"])\n",
    "\n",
    "# Combine prepared data\n",
    "prep = pd.concat([sensor_community_df,netatmo_df], ignore_index=True, axis=0)\n",
    "prep = prep[prep[\"Temperature\"].notna()]\n",
    "\n",
    "print(prep.tail(5))\n",
    "\n"
   ]
  },
  {
   "cell_type": "code",
   "execution_count": null,
   "metadata": {},
   "outputs": [],
   "source": [
    "from sklearn import linear_model\n",
    "\n",
    "reg = linear_model.Lasso(alpha=0.1)\n",
    "reg.fit([[0, 0], [1, 1]], [0, 1])\n",
    "print(reg.coef_)\n"
   ]
  }
 ],
 "metadata": {
  "kernelspec": {
   "display_name": "venv",
   "language": "python",
   "name": "python3"
  },
  "language_info": {
   "codemirror_mode": {
    "name": "ipython",
    "version": 3
   },
   "file_extension": ".py",
   "mimetype": "text/x-python",
   "name": "python",
   "nbconvert_exporter": "python",
   "pygments_lexer": "ipython3",
   "version": "3.8.8"
  },
  "orig_nbformat": 4,
  "vscode": {
   "interpreter": {
    "hash": "4289530f3b2db6ec356c3e194078e4814479ad0c71c9eae9b7bdece64a60a424"
   }
  }
 },
 "nbformat": 4,
 "nbformat_minor": 2
}
